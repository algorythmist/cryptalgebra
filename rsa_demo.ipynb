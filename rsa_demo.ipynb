{
 "cells": [
  {
   "cell_type": "markdown",
   "id": "948c8d46",
   "metadata": {},
   "source": [
    "# RSA Demo"
   ]
  },
  {
   "cell_type": "code",
   "execution_count": 1,
   "id": "f11985ca",
   "metadata": {},
   "outputs": [],
   "source": [
    "# Import helper libraries\n",
    "from integers import generate_random_prime, mod_inverse, mod_power\n",
    "from encoders import encode_ascii, decode_ascii"
   ]
  },
  {
   "cell_type": "markdown",
   "id": "0079e0f8",
   "metadata": {},
   "source": [
    "Generate two random primes of slightly different lengths, and compute their product"
   ]
  },
  {
   "cell_type": "code",
   "execution_count": 2,
   "id": "7bbacfb8",
   "metadata": {},
   "outputs": [
    {
     "name": "stdout",
     "output_type": "stream",
     "text": [
      "n = p*q = 25351941462036358230345742810641742852327450278720135769961119516255535365875105001606728547396852753936680636481111798034592621026273301742196070745029230850352843784923916579058231407306148837183319\n"
     ]
    }
   ],
   "source": [
    "p = generate_random_prime(101)\n",
    "q = generate_random_prime(99)\n",
    "\n",
    "n = p*q\n",
    "print(f'n = p*q = {n}')"
   ]
  },
  {
   "cell_type": "markdown",
   "id": "654df3d8",
   "metadata": {},
   "source": [
    "Generate an integer $e$ relatively prime to $n$ (another prime) and compute it's inverse mod $\\phi(n) = (p-1)(q-1)$"
   ]
  },
  {
   "cell_type": "code",
   "execution_count": 3,
   "id": "0ed23645",
   "metadata": {},
   "outputs": [],
   "source": [
    "e = generate_random_prime(12)\n",
    "d = mod_inverse(e, (p-1)*(q-1))"
   ]
  },
  {
   "cell_type": "markdown",
   "id": "b0c3df32",
   "metadata": {},
   "source": [
    "The pair $(n, e)$ is the public key, which can be used to encrypt a message. \n",
    "For example, suppose we want to encrypt the phrase \"Prime Time\". \n",
    "\n",
    "First we must convert it to an integer, using for example, ASCII encoding:\n"
   ]
  },
  {
   "cell_type": "code",
   "execution_count": 4,
   "id": "01845bb3",
   "metadata": {},
   "outputs": [
    {
     "data": {
      "text/plain": [
       "80114105109101032084105109101"
      ]
     },
     "execution_count": 4,
     "metadata": {},
     "output_type": "execute_result"
    }
   ],
   "source": [
    "m = encode_ascii(\"Prime Time\")\n",
    "m"
   ]
  },
  {
   "cell_type": "markdown",
   "id": "6775690c",
   "metadata": {},
   "source": [
    "To encrypt the message we compute $c = m^e \\mod n$."
   ]
  },
  {
   "cell_type": "code",
   "execution_count": 5,
   "id": "0dbf03f8",
   "metadata": {},
   "outputs": [
    {
     "data": {
      "text/plain": [
       "19966457607565912397110737585254905426163893570622590089957965185032397751392248724880831054215805050444769662026318054659174066408132383576278697082269764170559894091495741544681412847242679135873353"
      ]
     },
     "execution_count": 5,
     "metadata": {},
     "output_type": "execute_result"
    }
   ],
   "source": [
    "c = mod_power(m, e, n)\n",
    "c"
   ]
  },
  {
   "cell_type": "markdown",
   "id": "1a6b474c",
   "metadata": {},
   "source": [
    "This message can be decoded using the private key $d$ and computing $m = c^d \\mod n$"
   ]
  },
  {
   "cell_type": "code",
   "execution_count": 6,
   "id": "addffdfe",
   "metadata": {},
   "outputs": [],
   "source": [
    "m = mod_power(c, d, n)"
   ]
  },
  {
   "cell_type": "markdown",
   "id": "d778cd5d",
   "metadata": {},
   "source": [
    "Decoding from ASCII this recovers the original message:"
   ]
  },
  {
   "cell_type": "code",
   "execution_count": 7,
   "id": "81d9be44",
   "metadata": {},
   "outputs": [
    {
     "data": {
      "text/plain": [
       "'Prime Time'"
      ]
     },
     "execution_count": 7,
     "metadata": {},
     "output_type": "execute_result"
    }
   ],
   "source": [
    "decode_ascii(m)"
   ]
  }
 ],
 "metadata": {
  "kernelspec": {
   "display_name": "computational-physics",
   "language": "python",
   "name": "computational-physics"
  },
  "language_info": {
   "codemirror_mode": {
    "name": "ipython",
    "version": 3
   },
   "file_extension": ".py",
   "mimetype": "text/x-python",
   "name": "python",
   "nbconvert_exporter": "python",
   "pygments_lexer": "ipython3",
   "version": "3.9.10"
  }
 },
 "nbformat": 4,
 "nbformat_minor": 5
}
