{
 "cells": [
  {
   "cell_type": "markdown",
   "id": "948c8d46",
   "metadata": {},
   "source": [
    "# RSA Demo"
   ]
  },
  {
   "cell_type": "code",
   "execution_count": 13,
   "id": "f2e5735b",
   "metadata": {},
   "outputs": [],
   "source": [
    "# Import helper libraries\n",
    "from integers import generate_random_prime, mod_inverse, mod_power\n",
    "from encoders import encode_ascii, decode_ascii"
   ]
  },
  {
   "cell_type": "markdown",
   "id": "0079e0f8",
   "metadata": {},
   "source": [
    "Generate two random primes of slightly different lengths, and compute their product"
   ]
  },
  {
   "cell_type": "code",
   "execution_count": 14,
   "id": "7bbacfb8",
   "metadata": {},
   "outputs": [
    {
     "name": "stdout",
     "output_type": "stream",
     "text": [
      "Found a prime in 6 attempts\n",
      "Found a prime in 78 attempts\n",
      "n = p*q = 23492441639703452061875182180983233458048840900883662609293961890600243450903215390996737563844359447044974146784982141745787986387935560953803241741837013413800067522749930474616826220889015199932379\n"
     ]
    }
   ],
   "source": [
    "p = generate_random_prime(101)\n",
    "q = generate_random_prime(99)\n",
    "\n",
    "n = p*q\n",
    "print(f'n = p*q = {n}')"
   ]
  },
  {
   "cell_type": "markdown",
   "id": "654df3d8",
   "metadata": {},
   "source": [
    "Generate an integer $e$ relatively prime to $n$ (another prime) and compute it's inverse mod $\\phi(n) = (p-1)(q-1)$"
   ]
  },
  {
   "cell_type": "code",
   "execution_count": 15,
   "id": "0ed23645",
   "metadata": {},
   "outputs": [
    {
     "name": "stdout",
     "output_type": "stream",
     "text": [
      "Found a prime in 26 attempts\n"
     ]
    }
   ],
   "source": [
    "e = generate_random_prime(12)\n",
    "d = mod_inverse(e, (p-1)*(q-1))"
   ]
  },
  {
   "cell_type": "markdown",
   "id": "bb78214c",
   "metadata": {},
   "source": [
    "The pair $(n, e)$ is the public key, which can be used to encrypt a message. \n",
    "For example, suppose we want to encrypt the phrase \"Prime Time\". \n",
    "\n",
    "First we must convert it to an integer, using for example, ASCII encoding:\n"
   ]
  },
  {
   "cell_type": "code",
   "execution_count": 16,
   "id": "75778590",
   "metadata": {},
   "outputs": [
    {
     "data": {
      "text/plain": [
       "80114105109101032084105109101"
      ]
     },
     "execution_count": 16,
     "metadata": {},
     "output_type": "execute_result"
    }
   ],
   "source": [
    "m = encode_ascii(\"Prime Time\")\n",
    "m"
   ]
  },
  {
   "cell_type": "markdown",
   "id": "21b870ea",
   "metadata": {},
   "source": [
    "To encrypt the message we compute $c = m^e \\mod n$."
   ]
  },
  {
   "cell_type": "code",
   "execution_count": 17,
   "id": "f45abb8d",
   "metadata": {},
   "outputs": [
    {
     "data": {
      "text/plain": [
       "18954840259454848884834682816542476791857019606605587780467153554763833068631304170391890659389724362164877551455894249476457516035473193659398555419379099193209003051309013595752889791048669560842441"
      ]
     },
     "execution_count": 17,
     "metadata": {},
     "output_type": "execute_result"
    }
   ],
   "source": [
    "c = mod_power(m, e, n)\n",
    "c"
   ]
  },
  {
   "cell_type": "markdown",
   "id": "b45e029f",
   "metadata": {},
   "source": [
    "This message can be decoded using the private key $d$ and computing $m = c^d \\mod n$"
   ]
  },
  {
   "cell_type": "code",
   "execution_count": 18,
   "id": "bddd1c27",
   "metadata": {},
   "outputs": [
    {
     "data": {
      "text/plain": [
       "80114105109101032084105109101"
      ]
     },
     "execution_count": 18,
     "metadata": {},
     "output_type": "execute_result"
    }
   ],
   "source": [
    "m = mod_power(c, d, n)"
   ]
  },
  {
   "cell_type": "markdown",
   "id": "5c4d2917",
   "metadata": {},
   "source": [
    "Decoding from ASCII this recovers the original message:"
   ]
  },
  {
   "cell_type": "code",
   "execution_count": 19,
   "id": "c960a3db",
   "metadata": {},
   "outputs": [
    {
     "data": {
      "text/plain": [
       "'Prime Time'"
      ]
     },
     "execution_count": 19,
     "metadata": {},
     "output_type": "execute_result"
    }
   ],
   "source": [
    "decode_ascii(m)"
   ]
  },
  {
   "cell_type": "code",
   "execution_count": null,
   "id": "ae69d3d6",
   "metadata": {},
   "outputs": [],
   "source": []
  }
 ],
 "metadata": {
  "kernelspec": {
   "display_name": "computational-physics",
   "language": "python",
   "name": "computational-physics"
  },
  "language_info": {
   "codemirror_mode": {
    "name": "ipython",
    "version": 3
   },
   "file_extension": ".py",
   "mimetype": "text/x-python",
   "name": "python",
   "nbconvert_exporter": "python",
   "pygments_lexer": "ipython3",
   "version": "3.9.10"
  }
 },
 "nbformat": 4,
 "nbformat_minor": 5
}
