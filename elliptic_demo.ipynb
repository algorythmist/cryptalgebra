{
 "cells": [
  {
   "cell_type": "markdown",
   "id": "948c8d46",
   "metadata": {},
   "source": [
    "# Pohlig Hellman Attack on Elliptic Curves"
   ]
  },
  {
   "cell_type": "markdown",
   "id": "eb81c39b",
   "metadata": {},
   "source": [
    "## Preliminaries\n",
    "\n",
    "An elliptic curve E over a field K of characteristic different than 2 or 3 is given by:\n",
    "\n",
    "$$\n",
    "E(K) = \\{ (x,y) \\in K x K : y^2 = x^3+ax+b \\}\n",
    "$$"
   ]
  },
  {
   "cell_type": "markdown",
   "id": "0079e0f8",
   "metadata": {},
   "source": [
    "Elliptic curves of this type over fields $F_p$, where $p$ is prime, are modeled in the module 'elliptic.py'.\n",
    "\n",
    "Here are some examples of the operations that you can perform on elliptic curves:"
   ]
  },
  {
   "cell_type": "code",
   "execution_count": 1,
   "id": "7bbacfb8",
   "metadata": {},
   "outputs": [
    {
     "name": "stdout",
     "output_type": "stream",
     "text": [
      "y^2 = x^3 + 4x + 20 (mod 29)\n"
     ]
    }
   ],
   "source": [
    "from elliptic import *\n",
    "\n",
    "ec = EllipticCurve(4, 20, 29)\n",
    "print(ec)"
   ]
  },
  {
   "cell_type": "code",
   "execution_count": 2,
   "id": "0ed23645",
   "metadata": {},
   "outputs": [
    {
     "data": {
      "text/plain": [
       "4"
      ]
     },
     "execution_count": 2,
     "metadata": {},
     "output_type": "execute_result"
    }
   ],
   "source": [
    "# compute the determinant\n",
    "\n",
    "ec.determinant()"
   ]
  },
  {
   "cell_type": "code",
   "execution_count": 3,
   "id": "01845bb3",
   "metadata": {},
   "outputs": [
    {
     "data": {
      "text/plain": [
       "True"
      ]
     },
     "execution_count": 3,
     "metadata": {},
     "output_type": "execute_result"
    }
   ],
   "source": [
    "# Check if a point belongs to the curve\n",
    "\n",
    "ec.is_valid_point((5, 22))"
   ]
  },
  {
   "cell_type": "code",
   "execution_count": 4,
   "id": "0dbf03f8",
   "metadata": {},
   "outputs": [],
   "source": [
    "# add/subtract/double and negate\n",
    "\n",
    "result = ec.add((5, 22), (16, 27))\n",
    "assert result == (13, 6)\n",
    "\n",
    "result = ec.subtract((13, 6), (5, 22))\n",
    "assert result == (16, 27)\n",
    "\n",
    "result = ec.double((5, 22))\n",
    "assert result == (14, 6)\n",
    "\n",
    "assert ec.negate((5, 22)) == (5, 7)"
   ]
  },
  {
   "cell_type": "markdown",
   "id": "1a6b474c",
   "metadata": {},
   "source": [
    "The point at infinity (the group identity) is represented by None"
   ]
  },
  {
   "cell_type": "code",
   "execution_count": 5,
   "id": "addffdfe",
   "metadata": {},
   "outputs": [
    {
     "name": "stdout",
     "output_type": "stream",
     "text": [
      "None\n"
     ]
    }
   ],
   "source": [
    "result = ec.add((1, 5), (1, 24)) \n",
    "print(result)"
   ]
  },
  {
   "cell_type": "code",
   "execution_count": 6,
   "id": "81d9be44",
   "metadata": {},
   "outputs": [
    {
     "data": {
      "text/plain": [
       "(5, 22)"
      ]
     },
     "execution_count": 6,
     "metadata": {},
     "output_type": "execute_result"
    }
   ],
   "source": [
    "ec.add(None, (5, 22))"
   ]
  },
  {
   "cell_type": "markdown",
   "id": "8828e4e9",
   "metadata": {},
   "source": [
    "You can multiply a point with an integer to represent adding a point to itself n times"
   ]
  },
  {
   "cell_type": "code",
   "execution_count": 7,
   "id": "98da586a",
   "metadata": {},
   "outputs": [],
   "source": [
    "p = (1, 5)\n",
    "assert ec.is_valid_point(p)\n",
    "assert ec.multiply(p, 2) == (4, 19)\n",
    "assert ec.multiply(p, 21) == (0, 7)"
   ]
  },
  {
   "cell_type": "markdown",
   "id": "a47e386e",
   "metadata": {},
   "source": [
    "## The Discrete Logarithm in Elliptic Curves\n",
    "\n",
    "Given a curve $E(F_p)$, pick a point $P \\in E(F_p)$ with known order $n$. Let $Q \\in <P>$. The discrete logarithm problem is to find $l: Q = lP$ "
   ]
  },
  {
   "cell_type": "markdown",
   "id": "87eea54a",
   "metadata": {},
   "source": [
    "### The Pohlig-Hellman attack\n",
    "\n",
    "To effect the PH attack, we need the following prerequisites:\n",
    "\n",
    "1. The ability to factor the order $n$ of $P$ into primes with their multiplicity\n",
    "\n",
    "2. The ability to mount a successful attack for every prime that divides $n$.\n",
    "\n",
    "Neither of these prerequisites can be guaranteed if $n$ is very large, but for the small problems in the book we can use naive algorithms to achieve them.\n"
   ]
  },
  {
   "cell_type": "markdown",
   "id": "2fe71b61",
   "metadata": {},
   "source": [
    "Factorization methods can be found in the module factors.py\n",
    "\n",
    "Here is an example:\n"
   ]
  },
  {
   "cell_type": "code",
   "execution_count": 8,
   "id": "d9296a95",
   "metadata": {},
   "outputs": [
    {
     "data": {
      "text/plain": [
       "[(2, 2), (2165335243, 1)]"
      ]
     },
     "execution_count": 8,
     "metadata": {},
     "output_type": "execute_result"
    }
   ],
   "source": [
    "from factors import *\n",
    "\n",
    "naive_factorization_with_multiplicity(8661340972)"
   ]
  },
  {
   "cell_type": "markdown",
   "id": "7ba364d5",
   "metadata": {},
   "source": [
    "The naive version of Pollard's rho attack described in the beginning of section 4.1.2 is implemented in elliptic_attacks.py"
   ]
  },
  {
   "cell_type": "code",
   "execution_count": 10,
   "id": "f0cd98dc",
   "metadata": {},
   "outputs": [
    {
     "data": {
      "text/plain": [
       "176"
      ]
     },
     "execution_count": 10,
     "metadata": {},
     "output_type": "execute_result"
    }
   ],
   "source": [
    "from elliptic_attacks import *\n",
    "\n",
    "ec = EllipticCurve(1, 44, 229)\n",
    "order = 239\n",
    "p = (5, 116)\n",
    "q = (155, 166)\n",
    "naive_prime_attack(ec, p, order, q)"
   ]
  },
  {
   "cell_type": "code",
   "execution_count": 11,
   "id": "25909eb7",
   "metadata": {},
   "outputs": [
    {
     "data": {
      "text/plain": [
       "(155, 166)"
      ]
     },
     "execution_count": 11,
     "metadata": {},
     "output_type": "execute_result"
    }
   ],
   "source": [
    "ec.multiply(p, 176)"
   ]
  },
  {
   "cell_type": "code",
   "execution_count": 13,
   "id": "c0ef3f8b",
   "metadata": {},
   "outputs": [],
   "source": [
    "# Here is the code for the naive prime attack\n",
    "\n",
    "def naive_prime_attack(ec: EllipticCurve, p: Point, prime_order: int, q: Point,\n",
    "                       iterations: int = 10000) -> int:\n",
    "    assert is_probably_prime(prime_order), \"The order must be a prime number\"\n",
    "    if p == q:\n",
    "        return 1\n",
    "\n",
    "    def find_dupes() -> tuple[int, int, int, int] | None:\n",
    "        lookup: Dict[Point, tuple[int, int]] = {}\n",
    "        for _ in range(iterations):\n",
    "            c = randint(1, prime_order - 1)\n",
    "            d = randint(1, prime_order - 1)\n",
    "            result = ec.add(ec.multiply(p, c), ec.multiply(q, d))\n",
    "            if result in lookup:\n",
    "                e, f = lookup[result]\n",
    "                if e != c or f != d:\n",
    "                    return c, d, e, f\n",
    "            lookup[result] = (c, d)\n",
    "        return None\n",
    "\n",
    "    result = find_dupes()\n",
    "    if not result:\n",
    "        raise ValueError(\"No solution found\")\n",
    "    c, d, e, f = result\n",
    "    a = (c-e) % prime_order\n",
    "    b = (f-d) % prime_order\n",
    "    return a * mod_inverse(b, prime_order) % prime_order\n"
   ]
  },
  {
   "cell_type": "markdown",
   "id": "6c83aec5",
   "metadata": {},
   "source": [
    "Finally, a solver for a system of mod equations using the Chinese Remainder Theorem, can be found in integers.py:\n"
   ]
  },
  {
   "cell_type": "code",
   "execution_count": 12,
   "id": "23ddeb4e",
   "metadata": {},
   "outputs": [
    {
     "data": {
      "text/plain": [
       "89469"
      ]
     },
     "execution_count": 12,
     "metadata": {},
     "output_type": "execute_result"
    }
   ],
   "source": [
    "from integers import solve_chinese_remainder\n",
    "\n",
    "remainders = [(6, 11), (13, 16), (9, 21), (19, 25)]\n",
    "solve_chinese_remainder(remainders)"
   ]
  },
  {
   "cell_type": "markdown",
   "id": "f03a8c52",
   "metadata": {},
   "source": [
    "The Pohlig Hellman attack is implemented as a class in elliptic_attacks.py. \n",
    "\n",
    "Here is how to use it:\n"
   ]
  },
  {
   "cell_type": "code",
   "execution_count": 14,
   "id": "c19f09fc",
   "metadata": {},
   "outputs": [
    {
     "data": {
      "text/plain": [
       "4334"
      ]
     },
     "execution_count": 14,
     "metadata": {},
     "output_type": "execute_result"
    }
   ],
   "source": [
    "ec = EllipticCurve(1001, 75, 7919)\n",
    "order = 7889\n",
    "p = (4023, 6036)\n",
    "q = (4135, 3169)\n",
    "ph = PohlighHellman(ec, p, order, q)\n",
    "ph.solve()"
   ]
  },
  {
   "cell_type": "code",
   "execution_count": null,
   "id": "b3ddfdaa",
   "metadata": {},
   "outputs": [],
   "source": []
  }
 ],
 "metadata": {
  "kernelspec": {
   "display_name": "cryptalgebra",
   "language": "python",
   "name": "cryptalgebra"
  },
  "language_info": {
   "codemirror_mode": {
    "name": "ipython",
    "version": 3
   },
   "file_extension": ".py",
   "mimetype": "text/x-python",
   "name": "python",
   "nbconvert_exporter": "python",
   "pygments_lexer": "ipython3",
   "version": "3.11.5"
  }
 },
 "nbformat": 4,
 "nbformat_minor": 5
}
